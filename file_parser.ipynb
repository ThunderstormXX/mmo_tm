{
 "cells": [
  {
   "cell_type": "code",
   "execution_count": 2,
   "metadata": {},
   "outputs": [],
   "source": [
    "import os\n",
    "import re\n",
    "import pandas as pd"
   ]
  },
  {
   "cell_type": "code",
   "execution_count": 3,
   "metadata": {},
   "outputs": [],
   "source": [
    "def parse_files(directory_path):\n",
    "    result_list = []\n",
    "    for root, _, files in os.walk(directory_path):\n",
    "        for file in files:\n",
    "            parsed_name = set(re.split(r'_', file))\n",
    "            result_list.append((file, parsed_name))\n",
    "    return result_list\n"
   ]
  },
  {
   "cell_type": "code",
   "execution_count": 4,
   "metadata": {},
   "outputs": [
    {
     "name": "stdout",
     "output_type": "stream",
     "text": [
      "/home/igoreshka/Desktop/ЛАБКА/MMO_transportnet/mmo_tm/experiments_results/iterations\n"
     ]
    }
   ],
   "source": [
    "directory_path = './experiments_results/iterations/'\n",
    "full_path = os.path.abspath(directory_path)\n",
    "print(full_path)\n",
    "parsed_files_list = parse_files(full_path)"
   ]
  },
  {
   "cell_type": "code",
   "execution_count": 6,
   "metadata": {},
   "outputs": [
    {
     "data": {
      "text/plain": [
       "0    {Berlin-Mitte-Prenzlauerberg-Friedrichshain-Ce...\n",
       "1    {duality, 10iters, Winnipeg, frank, 14:08.csv,...\n",
       "2    {frank, gap, wolfe, Berlin-Center, datetime, 3...\n",
       "3    {Berlin-Mitte-Prenzlauerberg-Friedrichshain-Ce...\n",
       "4    {duality, frank, 15:06.csv, gap, wolfe linesea...\n",
       "Name: parsed, dtype: object"
      ]
     },
     "execution_count": 6,
     "metadata": {},
     "output_type": "execute_result"
    }
   ],
   "source": [
    "df = pd.DataFrame(parsed_files_list, columns=['name','parsed'])\n",
    "df['parsed'].head()"
   ]
  },
  {
   "cell_type": "code",
   "execution_count": 7,
   "metadata": {},
   "outputs": [
    {
     "name": "stdout",
     "output_type": "stream",
     "text": [
      "{'Berlin-Mitte-Prenzlauerberg-Friedrichshain-Center', 'frank', '100iters', 'gap', 'wolfe linesearch', '2023-11-02', 'datetime', 'conjugate', '18:00.csv', 'relative'}\n"
     ]
    }
   ],
   "source": [
    "print(df['parsed'][0])"
   ]
  },
  {
   "cell_type": "code",
   "execution_count": 12,
   "metadata": {},
   "outputs": [],
   "source": [
    "def searcher( keys , x) :\n",
    "    for key in keys :\n",
    "        if key not in x :\n",
    "            return False\n",
    "    return True\n",
    "def copy_and_transform_files( files, directory_path , output_directory ):\n",
    "    for file_name in files :\n",
    "        source_path = os.path.join(directory_path, file_name)\n",
    "        # print(source_path)\n",
    "        destination_path = os.path.join(output_directory, file_name)\n",
    "        iters = pd.read_csv(source_path)\n",
    "        values = iters.values.T\n",
    "        values[:, [0, 1]] = values[:, [1, 0]]\n",
    "        frame = pd.DataFrame(values , columns=['x','y'])\n",
    "        sampled_frame = frame.iloc[::int(len(frame)/100)]\n",
    "        sampled_frame.to_csv(destination_path, index=False)\n",
    "        \n",
    "        # shutil.copy(source_path, destination_path)\n",
    "        # print(f\"Файл {file_name} скопирован в {output_directory}.\")"
   ]
  },
  {
   "cell_type": "code",
   "execution_count": 9,
   "metadata": {},
   "outputs": [
    {
     "name": "stdout",
     "output_type": "stream",
     "text": [
      "['relative_gap_frank_wolfe linesearch_Anaheim_1000iters_datetime_2023-10-19_16:48.csv'\n",
      " 'relative_gap_conjugate_frank_wolfe linesearch_Anaheim_1000iters_datetime_2023-10-19_16:48.csv'\n",
      " 'relative_gap_N_conjugate_frank_wolfe linesearch N =3_Anaheim_1000iters_datetime_2023-10-19_16:48.csv'\n",
      " 'relative_gap_N_conjugate_frank_wolfe linesearch N =4_Anaheim_1000iters_datetime_2023-10-19_16:48.csv'\n",
      " 'relative_gap_fukushima_frank_wolfe linesearch weighted =0.15_Anaheim_1000iters_datetime_2023-10-19_16:48.csv'\n",
      " 'relative_gap_frank_wolfe_Anaheim_1000iters_datetime_2023-10-19_16:48.csv'\n",
      " 'relative_gap_Bi_conjugate_frank_wolfe linesearch_Anaheim_1000iters_datetime_2023-10-19_16:48.csv']\n"
     ]
    }
   ],
   "source": [
    "keys = ['relative','gap' , '1000iters' , '2023-10-19' ,'Anaheim']\n",
    "filtered_df = df[df['parsed'].apply( lambda x : searcher(keys , x) )]\n",
    "\n",
    "Anaheim_results = filtered_df['name'].values\n",
    "print(filtered_df['name'].values)"
   ]
  },
  {
   "cell_type": "code",
   "execution_count": 78,
   "metadata": {},
   "outputs": [
    {
     "name": "stdout",
     "output_type": "stream",
     "text": [
      "\\addplot [no marks,green] table [col sep=comma]{plots/relative_gap_frank_wolfe linesearch_Anaheim_1000iters_datetime_2023-10-19_16:48.csv};\\addlegendentry{}\n",
      "\\addplot [no marks,green] table [col sep=comma]{plots/relative_gap_conjugate_frank_wolfe linesearch_Anaheim_1000iters_datetime_2023-10-19_16:48.csv};\\addlegendentry{}\n",
      "\\addplot [no marks,green] table [col sep=comma]{plots/relative_gap_N_conjugate_frank_wolfe linesearch N =3_Anaheim_1000iters_datetime_2023-10-19_16:48.csv};\\addlegendentry{}\n",
      "\\addplot [no marks,green] table [col sep=comma]{plots/relative_gap_N_conjugate_frank_wolfe linesearch N =4_Anaheim_1000iters_datetime_2023-10-19_16:48.csv};\\addlegendentry{}\n",
      "\\addplot [no marks,green] table [col sep=comma]{plots/relative_gap_fukushima_frank_wolfe linesearch weighted =0.15_Anaheim_1000iters_datetime_2023-10-19_16:48.csv};\\addlegendentry{}\n",
      "\\addplot [no marks,green] table [col sep=comma]{plots/relative_gap_frank_wolfe_Anaheim_1000iters_datetime_2023-10-19_16:48.csv};\\addlegendentry{}\n",
      "\\addplot [no marks,green] table [col sep=comma]{plots/relative_gap_Bi_conjugate_frank_wolfe linesearch_Anaheim_1000iters_datetime_2023-10-19_16:48.csv};\\addlegendentry{}\n"
     ]
    }
   ],
   "source": [
    "for filename in Anaheim_results :\n",
    "    print('\\\\addplot [no marks,green] table [col sep=comma]{plots/'+ filename + '};\\\\addlegendentry{}')"
   ]
  },
  {
   "attachments": {},
   "cell_type": "markdown",
   "metadata": {},
   "source": [
    "формат для overleaf : DataFrame(columns['x','y']).to_csv()"
   ]
  },
  {
   "cell_type": "code",
   "execution_count": 13,
   "metadata": {},
   "outputs": [],
   "source": [
    "copy_and_transform_files(Anaheim_results , './experiments_results/iterations/' , './experiments_results/for_paper/Anaheim/')"
   ]
  },
  {
   "cell_type": "code",
   "execution_count": 66,
   "metadata": {},
   "outputs": [],
   "source": [
    "iters = pd.read_csv('./experiments_results/iterations/'+ Anaheim_results[0])\n",
    "values = iters.values.T\n",
    "values[:, [0, 1]] = values[:, [1, 0]]"
   ]
  },
  {
   "cell_type": "code",
   "execution_count": 67,
   "metadata": {},
   "outputs": [
    {
     "data": {
      "text/plain": [
       "array([[0.00000000e+00, 3.96871170e-02],\n",
       "       [3.55830193e-02, 2.92263437e-02],\n",
       "       [6.91804886e-02, 6.71695057e-03],\n",
       "       ...,\n",
       "       [2.98841560e+01, 4.43785064e-07],\n",
       "       [2.99136589e+01, 4.43323011e-07],\n",
       "       [2.99405754e+01, 4.43062240e-07]])"
      ]
     },
     "execution_count": 67,
     "metadata": {},
     "output_type": "execute_result"
    }
   ],
   "source": [
    "values"
   ]
  },
  {
   "cell_type": "code",
   "execution_count": null,
   "metadata": {},
   "outputs": [],
   "source": []
  }
 ],
 "metadata": {
  "kernelspec": {
   "display_name": "tm",
   "language": "python",
   "name": "python3"
  },
  "language_info": {
   "codemirror_mode": {
    "name": "ipython",
    "version": 3
   },
   "file_extension": ".py",
   "mimetype": "text/x-python",
   "name": "python",
   "nbconvert_exporter": "python",
   "pygments_lexer": "ipython3",
   "version": "3.11.6"
  },
  "orig_nbformat": 4
 },
 "nbformat": 4,
 "nbformat_minor": 2
}
